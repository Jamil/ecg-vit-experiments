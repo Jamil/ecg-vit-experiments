{
 "cells": [
  {
   "cell_type": "code",
   "execution_count": 47,
   "id": "7f1e8438-c3c3-49bd-b2d2-2ebf7b58e3f7",
   "metadata": {},
   "outputs": [],
   "source": [
    "import numpy as np\n",
    "import matplotlib.pyplot as plt\n",
    "import scipy.io\n",
    "import torch\n",
    "import torch.nn.functional as F\n",
    "import tqdm\n",
    "import random\n",
    "\n",
    "from torch import nn\n",
    "from einops import rearrange, repeat, pack, unpack\n",
    "from einops.layers.torch import Rearrange\n",
    "from torch.utils.data import DataLoader, TensorDataset\n",
    "\n",
    "from vit_pytorch.vit import Transformer, ViT\n",
    "from vit_pytorch.mae import MAE"
   ]
  },
  {
   "cell_type": "code",
   "execution_count": 21,
   "id": "756c7b92-ce4b-4acd-8585-9df1b8f6cfdf",
   "metadata": {},
   "outputs": [],
   "source": [
    "ecg_mat = scipy.io.loadmat('ECGData.mat')"
   ]
  },
  {
   "cell_type": "code",
   "execution_count": 22,
   "id": "a239da7e-f025-403b-a04a-39b6ac959654",
   "metadata": {},
   "outputs": [
    {
     "name": "stdout",
     "output_type": "stream",
     "text": [
      "(20, 65536)\n"
     ]
    }
   ],
   "source": [
    "ecg_data = ecg_mat['ECGData'][0][0][0][:20]\n",
    "print(ecg_data.shape)"
   ]
  },
  {
   "cell_type": "code",
   "execution_count": 23,
   "id": "90596ef3-9328-4245-83c7-24cfed63bed4",
   "metadata": {},
   "outputs": [
    {
     "name": "stdout",
     "output_type": "stream",
     "text": [
      "(20, 1)\n"
     ]
    }
   ],
   "source": [
    "labels = ecg_mat['ECGData'][0][0][1][:20]\n",
    "print(labels.shape)"
   ]
  },
  {
   "cell_type": "code",
   "execution_count": 24,
   "id": "5d7142c6-59d7-4fc5-af43-e8507ce83e09",
   "metadata": {},
   "outputs": [],
   "source": [
    "def split_dataset_indices(N, train_percent, val_percent, test_percent, seed=42):\n",
    "    # Validate input percentages\n",
    "    if train_percent + val_percent + test_percent != 100:\n",
    "        raise ValueError(\"The sum of the percentages must be 100.\")\n",
    "\n",
    "    random.seed(seed)\n",
    "    # Generate a list of indices\n",
    "    indices = list(range(N))\n",
    "    random.shuffle(indices)\n",
    "\n",
    "    # Calculate split sizes\n",
    "    train_size = int((train_percent / 100) * N)\n",
    "    val_size = int((val_percent / 100) * N)\n",
    "\n",
    "    # Split indices\n",
    "    train_indices = indices[:train_size]\n",
    "    val_indices = indices[train_size:train_size + val_size]\n",
    "    test_indices = indices[train_size + val_size:]\n",
    "\n",
    "    return train_indices, val_indices, test_indices"
   ]
  },
  {
   "cell_type": "code",
   "execution_count": 25,
   "id": "df4dcb6e-4430-4dc7-b67b-75aa6f58522e",
   "metadata": {},
   "outputs": [],
   "source": [
    "train_indices, val_indices, test_indices = split_dataset_indices(labels.shape[0], 70, 15, 15)"
   ]
  },
  {
   "cell_type": "code",
   "execution_count": 26,
   "id": "63b884ee-4db5-40e8-b76c-316733504d9d",
   "metadata": {},
   "outputs": [],
   "source": [
    "def create_windowed_dataset(data, labels, window_size=1024, stride=None):\n",
    "    if not stride:\n",
    "        stride = window_size\n",
    "\n",
    "    min_val = np.min(data, axis=(0, 1), keepdims=True)\n",
    "    max_val = np.max(data, axis=(0, 1), keepdims=True)\n",
    "    data = 2 * ((data - min_val) / (max_val - min_val)) - 1\n",
    "    \n",
    "    num_samples, sample_size = data.shape\n",
    "    num_windows = sample_size // window_size\n",
    "    \n",
    "    # Initialize the windowed data and label arrays\n",
    "    windowed_data = np.empty((num_samples * num_windows, window_size))\n",
    "    windowed_labels = np.empty((num_samples * num_windows, 1), dtype=labels.dtype)\n",
    "\n",
    "    for i in range(num_samples):\n",
    "        for j in range(num_windows):\n",
    "            start = j * stride\n",
    "            end = start + window_size\n",
    "            windowed_data[i * num_windows + j, :] = data[i, start:end]\n",
    "            windowed_labels[i * num_windows + j, :] = labels[i]\n",
    "\n",
    "    \n",
    "    windowed_data = np.stack([windowed_data] * window_size)\n",
    "    windowed_data = rearrange(windowed_data, 'h n w -> n h w')\n",
    "    windowed_data = np.stack([windowed_data] * 3)\n",
    "    windowed_data = rearrange(windowed_data, 'c n h w -> n c h w')\n",
    "\n",
    "    return torch.tensor(windowed_data, dtype=torch.float32), windowed_labels"
   ]
  },
  {
   "cell_type": "code",
   "execution_count": 9,
   "id": "0f8bc083-454a-40e0-af3e-3a31aadc1923",
   "metadata": {},
   "outputs": [],
   "source": [
    "ecg_t, labels_t = create_windowed_dataset(ecg_data[train_indices], labels[train_indices], window_size=256)\n",
    "ecg_v, labels_v = create_windowed_dataset(ecg_data[val_indices], labels[val_indices], window_size=256)"
   ]
  },
  {
   "cell_type": "code",
   "execution_count": 10,
   "id": "a5988caa-6a89-4dbc-b29a-448e811c8df0",
   "metadata": {},
   "outputs": [
    {
     "data": {
      "text/plain": [
       "torch.Size([3584, 3, 256, 256])"
      ]
     },
     "execution_count": 10,
     "metadata": {},
     "output_type": "execute_result"
    }
   ],
   "source": [
    "ecg_t.shape"
   ]
  },
  {
   "cell_type": "code",
   "execution_count": 15,
   "id": "35676e94-3430-43b2-98f6-d32f8048450e",
   "metadata": {},
   "outputs": [
    {
     "data": {
      "text/plain": [
       "torch.Size([768, 3, 256, 256])"
      ]
     },
     "execution_count": 15,
     "metadata": {},
     "output_type": "execute_result"
    }
   ],
   "source": [
    "ecg_v.shape"
   ]
  },
  {
   "cell_type": "code",
   "execution_count": 35,
   "id": "8df4c1ff-10f1-4fb3-b4af-fa9bd6a3be96",
   "metadata": {},
   "outputs": [
    {
     "name": "stderr",
     "output_type": "stream",
     "text": [
      "Clipping input data to the valid range for imshow with RGB data ([0..1] for floats or [0..255] for integers).\n"
     ]
    },
    {
     "data": {
      "text/plain": [
       "<matplotlib.image.AxesImage at 0x29a625550>"
      ]
     },
     "execution_count": 35,
     "metadata": {},
     "output_type": "execute_result"
    },
    {
     "data": {
      "image/png": "[encoded data removed]",
      "text/plain": [
       "<Figure size 640x480 with 1 Axes>"
      ]
     },
     "metadata": {},
     "output_type": "display_data"
    }
   ],
   "source": [
    "plt.imshow(rearrange(ecg_v[0] + 1, 'c h w -> h w c'))"
   ]
  },
  {
   "cell_type": "code",
   "execution_count": 48,
   "id": "37407b9f-0f9f-4a4d-853c-7606c79a2ebd",
   "metadata": {},
   "outputs": [
    {
     "data": {
      "text/plain": [
       "torch.Size([768, 16, 128])"
      ]
     },
     "execution_count": 48,
     "metadata": {},
     "output_type": "execute_result"
    }
   ],
   "source": [
    "v = ViT(\n",
    "    image_size = 256,\n",
    "    patch_size = 64,\n",
    "    num_classes = 10,\n",
    "    dim = 128,\n",
    "    depth = 12,\n",
    "    heads = 8,\n",
    "    mlp_dim = 256,\n",
    "    channels = 3\n",
    ")\n",
    "\n",
    "emb_ex = v.to_patch_embedding(ecg_v)\n",
    "emb_ex.shape"
   ]
  },
  {
   "cell_type": "code",
   "execution_count": 49,
   "id": "d6adfb7f-aa63-46ad-964c-6714d1093af4",
   "metadata": {},
   "outputs": [
    {
     "data": {
      "text/plain": [
       "torch.Size([768, 3, 256, 256])"
      ]
     },
     "execution_count": 49,
     "metadata": {},
     "output_type": "execute_result"
    }
   ],
   "source": [
    "ecg_v.shape"
   ]
  },
  {
   "cell_type": "code",
   "execution_count": 55,
   "id": "5013b9f1-a256-40d9-9aab-505b8114b730",
   "metadata": {},
   "outputs": [
    {
     "data": {
      "text/plain": [
       "torch.Size([1, 3, 256, 256])"
      ]
     },
     "execution_count": 55,
     "metadata": {},
     "output_type": "execute_result"
    }
   ],
   "source": [
    "ecg_t[:1].shape"
   ]
  },
  {
   "cell_type": "code",
   "execution_count": 58,
   "id": "9553396e-3ca8-4a11-9a5b-c8e5db287f6b",
   "metadata": {},
   "outputs": [],
   "source": [
    "import torch\n",
    "from torch import nn\n",
    "import torch.nn.functional as F\n",
    "from einops import repeat\n",
    "\n",
    "from vit_pytorch.vit import Transformer\n",
    "\n",
    "class MAE(nn.Module):\n",
    "    def __init__(\n",
    "        self,\n",
    "        *,\n",
    "        encoder,\n",
    "        decoder_dim,\n",
    "        masking_ratio = 0.75,\n",
    "        decoder_depth = 1,\n",
    "        decoder_heads = 8,\n",
    "        decoder_dim_head = 64\n",
    "    ):\n",
    "        super().__init__()\n",
    "        assert masking_ratio > 0 and masking_ratio < 1, 'masking ratio must be kept between 0 and 1'\n",
    "        self.masking_ratio = masking_ratio\n",
    "\n",
    "        # extract some hyperparameters and functions from encoder (vision transformer to be trained)\n",
    "\n",
    "        self.encoder = encoder\n",
    "        num_patches, encoder_dim = encoder.pos_embedding.shape[-2:]\n",
    "\n",
    "        self.to_patch = encoder.to_patch_embedding[0]\n",
    "        self.patch_to_emb = nn.Sequential(*encoder.to_patch_embedding[1:])\n",
    "\n",
    "        pixel_values_per_patch = encoder.to_patch_embedding[2].weight.shape[-1]\n",
    "\n",
    "        # decoder parameters\n",
    "        self.decoder_dim = decoder_dim\n",
    "        self.enc_to_dec = nn.Linear(encoder_dim, decoder_dim) if encoder_dim != decoder_dim else nn.Identity()\n",
    "        self.mask_token = nn.Parameter(torch.randn(decoder_dim))\n",
    "        self.decoder = Transformer(dim = decoder_dim, depth = decoder_depth, heads = decoder_heads, dim_head = decoder_dim_head, mlp_dim = decoder_dim * 4)\n",
    "        self.decoder_pos_emb = nn.Embedding(num_patches, decoder_dim)\n",
    "        self.to_pixels = nn.Linear(decoder_dim, pixel_values_per_patch)\n",
    "\n",
    "    def forward(self, img):\n",
    "        device = img.device\n",
    "\n",
    "        # get patches\n",
    "\n",
    "        patches = self.to_patch(img)\n",
    "        batch, num_patches, *_ = patches.shape\n",
    "\n",
    "        # patch to encoder tokens and add positions\n",
    "\n",
    "        tokens = self.patch_to_emb(patches)\n",
    "        if self.encoder.pool == \"cls\":\n",
    "            tokens += self.encoder.pos_embedding[:, 1:(num_patches + 1)]\n",
    "        elif self.encoder.pool == \"mean\":\n",
    "            tokens += self.encoder.pos_embedding.to(device, dtype=tokens.dtype) \n",
    "\n",
    "        # calculate of patches needed to be masked, and get random indices, dividing it up for mask vs unmasked\n",
    "\n",
    "        num_masked = int(self.masking_ratio * num_patches)\n",
    "        rand_indices = torch.rand(batch, num_patches, device = device).argsort(dim = -1)\n",
    "        masked_indices, unmasked_indices = rand_indices[:, :num_masked], rand_indices[:, num_masked:]\n",
    "\n",
    "        # get the unmasked tokens to be encoded\n",
    "\n",
    "        batch_range = torch.arange(batch, device = device)[:, None]\n",
    "        tokens = tokens[batch_range, unmasked_indices]\n",
    "\n",
    "        # get the patches to be masked for the final reconstruction loss\n",
    "\n",
    "        masked_patches = patches[batch_range, masked_indices]\n",
    "\n",
    "        # attend with vision transformer\n",
    "\n",
    "        encoded_tokens = self.encoder.transformer(tokens)\n",
    "\n",
    "        # project encoder to decoder dimensions, if they are not equal - the paper says you can get away with a smaller dimension for decoder\n",
    "\n",
    "        decoder_tokens = self.enc_to_dec(encoded_tokens)\n",
    "\n",
    "        # reapply decoder position embedding to unmasked tokens\n",
    "\n",
    "        unmasked_decoder_tokens = decoder_tokens + self.decoder_pos_emb(unmasked_indices)\n",
    "\n",
    "        # repeat mask tokens for number of masked, and add the positions using the masked indices derived above\n",
    "\n",
    "        mask_tokens = repeat(self.mask_token, 'd -> b n d', b = batch, n = num_masked)\n",
    "        mask_tokens = mask_tokens + self.decoder_pos_emb(masked_indices)\n",
    "\n",
    "        # concat the masked tokens to the decoder tokens and attend with decoder\n",
    "        \n",
    "        decoder_tokens = torch.zeros(batch, num_patches, self.decoder_dim, device=device)\n",
    "        decoder_tokens[batch_range, unmasked_indices] = unmasked_decoder_tokens\n",
    "        decoder_tokens[batch_range, masked_indices] = mask_tokens\n",
    "        decoded_tokens = self.decoder(decoder_tokens)\n",
    "\n",
    "        # splice out the mask tokens and project to pixel values\n",
    "\n",
    "        mask_tokens = decoded_tokens[batch_range, masked_indices]\n",
    "        pred_pixel_values = self.to_pixels(mask_tokens)\n",
    "\n",
    "        # calculate reconstruction loss\n",
    "\n",
    "        recon_loss = F.mse_loss(pred_pixel_values, masked_patches)\n",
    "        return recon_loss, patches.detach().numpy(), masked_indices.detach().numpy(), pred_pixel_values.detach().numpy()\n"
   ]
  },
  {
   "cell_type": "code",
   "execution_count": 65,
   "id": "baccb989-7e97-4bc2-983d-69e5c1694ba7",
   "metadata": {},
   "outputs": [
    {
     "name": "stdout",
     "output_type": "stream",
     "text": [
      "tensor(0.3749, grad_fn=<MseLossBackward0>)\n"
     ]
    }
   ],
   "source": [
    "mae = MAE(\n",
    "    encoder = v,\n",
    "    masking_ratio = 0.25,   # the paper recommended 75% masked patches\n",
    "    decoder_dim = 128,      # paper showed good results with just 512\n",
    "    decoder_depth = 6       # anywhere from 1 to 8\n",
    ")\n",
    "\n",
    "loss, patches, masked_indices, pred_pixel_values = mae(ecg_t[:1])\n",
    "print(loss)"
   ]
  },
  {
   "cell_type": "code",
   "execution_count": 60,
   "id": "563a9df0-c4f8-4aab-8927-01ab9f6d2c40",
   "metadata": {},
   "outputs": [
    {
     "name": "stdout",
     "output_type": "stream",
     "text": [
      "masked_indices:\n",
      "(1, 4)\n",
      "patches:\n",
      "(1, 16, 12288)\n",
      "pred_pixel_values:\n",
      "(1, 4, 12288)\n"
     ]
    }
   ],
   "source": [
    "print('masked_indices:')\n",
    "print(masked_indices.shape)\n",
    "\n",
    "print('patches:')\n",
    "print(patches.shape)\n",
    "\n",
    "print('pred_pixel_values:')\n",
    "print(pred_pixel_values.shape)"
   ]
  },
  {
   "cell_type": "code",
   "execution_count": 71,
   "id": "83bc3b3e-fd3c-49a6-8fa2-da60b6ef1e10",
   "metadata": {},
   "outputs": [],
   "source": [
    "# Function to create batches - returns a DataLoader\n",
    "def create_batches(data, batch_size):\n",
    "    tensor_data = torch.Tensor(data)\n",
    "    dataset = TensorDataset(tensor_data)\n",
    "    return DataLoader(dataset, batch_size=batch_size, shuffle=True)\n",
    "\n",
    "# Function to determine the tqdm environment\n",
    "def get_tqdm():\n",
    "    try:\n",
    "        shell = get_ipython().__class__.__name__\n",
    "        if shell == 'ZMQInteractiveShell':\n",
    "            return tqdm_notebook.tqdm\n",
    "        else:\n",
    "            return tqdm.tqdm\n",
    "    except NameError:\n",
    "        return tqdm.tqdm\n",
    "\n",
    "# Training loop\n",
    "def train_model(train_data, val_data, batch_size, num_epochs, model, optimizer):\n",
    "    # Use the appropriate tqdm version\n",
    "    tqdm_bar = get_tqdm()\n",
    "\n",
    "    # Create batches\n",
    "    dataloader = create_batches(train_data, batch_size)\n",
    "\n",
    "    for epoch in range(num_epochs):\n",
    "        total_loss, num_batches = 0, 0\n",
    "        with tqdm_bar(total=len(dataloader), desc=f'Epoch {epoch + 1}/{num_epochs}') as pbar:\n",
    "            for data_batch in dataloader:\n",
    "                loss, _, _, _ = mae(data_batch[0])\n",
    "                optimizer.zero_grad()\n",
    "                loss.backward()\n",
    "                optimizer.step()\n",
    "\n",
    "                total_loss += loss.item()\n",
    "                num_batches += 1\n",
    "\n",
    "                average_loss = total_loss / num_batches\n",
    "                pbar.set_postfix(avg_loss=average_loss)\n",
    "                pbar.update()\n",
    "            with torch.no_grad():\n",
    "                loss_v, patches_v, masked_indices_v, pred_pixel_values_v = mae(val_data)\n",
    "                #plot_example(patches_v, masked_indices_v, pred_pixel_values_v, 0)\n",
    "                pbar.set_postfix(train_loss=average_loss, val_loss=loss_v.detach().numpy())"
   ]
  },
  {
   "cell_type": "code",
   "execution_count": 72,
   "id": "09e9d585-1e19-492b-ba9f-03d2f75b26c2",
   "metadata": {},
   "outputs": [
    {
     "name": "stderr",
     "output_type": "stream",
     "text": [
      "Epoch 1/5: 100%|█████████████████████████████████████████████████████████████████████████████████████████████████████████████████████████████| 112/112 [05:06<00:00,  2.74s/it, train_loss=0.026, val_loss=0.08371836]\n",
      "Epoch 2/5: 100%|████████████████████████████████████████████████████████████████████████████████████████████████████████████████████████████| 112/112 [05:08<00:00,  2.76s/it, train_loss=0.025, val_loss=0.086369246]\n",
      "Epoch 3/5: 100%|███████████████████████████████████████████████████████████████████████████████████████████████████████████████████████████| 112/112 [05:08<00:00,  2.75s/it, train_loss=0.0248, val_loss=0.089447156]\n",
      "Epoch 4/5: 100%|████████████████████████████████████████████████████████████████████████████████████████████████████████████████████████████| 112/112 [05:08<00:00,  2.75s/it, train_loss=0.0249, val_loss=0.09721615]\n",
      "Epoch 5/5: 100%|████████████████████████████████████████████████████████████████████████████████████████████████████████████████████████████| 112/112 [05:09<00:00,  2.76s/it, train_loss=0.0248, val_loss=0.10288219]\n"
     ]
    }
   ],
   "source": [
    "learning_rate = 1e-3\n",
    "optimizer = torch.optim.Adam(mae.parameters(), lr=learning_rate)\n",
    "train_model(ecg_t, ecg_v, batch_size=32, num_epochs=5, model=mae, optimizer=optimizer)"
   ]
  },
  {
   "cell_type": "code",
   "execution_count": 73,
   "id": "23c42be1-1446-4054-bb75-bec0a30285eb",
   "metadata": {},
   "outputs": [],
   "source": [
    "with torch.no_grad():\n",
    "    loss_t, patches_t, masked_indices_t, pred_pixel_values_t = mae(ecg_t[:100])\n",
    "    loss_v, patches_v, masked_indices_v, pred_pixel_values_v = mae(ecg_v)"
   ]
  },
  {
   "cell_type": "code",
   "execution_count": null,
   "id": "2bc82d08-915a-4866-b64e-3079cd348d6b",
   "metadata": {},
   "outputs": [],
   "source": [
    "# Example for one sequence (index 0)\n",
    "\n",
    "def plot_example(patches, masked_indices, pred_pixel_values, sequence_index):\n",
    "    original_sequence = patches[sequence_index].reshape(-1)  # Reshape to 1D\n",
    "    \n",
    "    masked_patches = masked_indices[sequence_index]\n",
    "    reconstructed_patches = pred_pixel_values[sequence_index]\n",
    "    \n",
    "    # Plotting\n",
    "    plt.figure(figsize=(12, 6))\n",
    "    plt.plot(original_sequence, label='Original Sequence', color='blue', linewidth=2)\n",
    "\n",
    "    seq_len = patches.shape[1] * patches.shape[2]\n",
    "    patch_size = patches.shape[2]\n",
    "    \n",
    "    # Subtle patch boundaries\n",
    "    for i in range(0, seq_len, patch_size):\n",
    "        plt.axvline(x=i, color='lightgray', linestyle='--', alpha=0.5)\n",
    "    \n",
    "    # Subtle background for masked areas\n",
    "    for idx in masked_patches:\n",
    "        plt.axvspan(idx * patch_size, (idx + 1) * patch_size, color='lightgray', alpha=0.2)\n",
    "    \n",
    "    # Show reconstructed patches (assuming they're in the same order as masked_indices)\n",
    "    for i, idx in enumerate(masked_patches):\n",
    "        reconstructed_section = reconstructed_patches[i].reshape(-1)\n",
    "        plt.plot(range(idx * patch_size, (idx + 1) * patch_size), reconstructed_section, color='lightblue', linewidth=2.5, alpha=0.4)\n",
    "    \n",
    "    plt.legend()\n",
    "    plt.title('Time-Series Data with MAE Reconstruction')\n",
    "    plt.xlabel('Index')\n",
    "    plt.ylabel('Value')\n",
    "    plt.show()"
   ]
  },
  {
   "cell_type": "code",
   "execution_count": null,
   "id": "c50334ce-11f5-41dc-97de-f72addb00be0",
   "metadata": {},
   "outputs": [],
   "source": [
    "plot_example(patches_t, masked_indices_t, pred_pixel_values_t, 0)"
   ]
  },
  {
   "cell_type": "code",
   "execution_count": 90,
   "id": "df0f5343-b4ab-4d4d-9ce1-8914f4cbc8fe",
   "metadata": {},
   "outputs": [
    {
     "data": {
      "text/plain": [
       "(16, 12288)"
      ]
     },
     "execution_count": 90,
     "metadata": {},
     "output_type": "execute_result"
    }
   ],
   "source": [
    "patches_t[0].shape"
   ]
  },
  {
   "cell_type": "code",
   "execution_count": 100,
   "id": "8c3286ed-fe22-487c-a30e-fa6238e42d0c",
   "metadata": {},
   "outputs": [],
   "source": [
    "patches_rearranged = rearrange(patches_t[0], 'num_patches (ph pw c) -> num_patches c ph pw', c=3, ph=64, pw=64)"
   ]
  },
  {
   "cell_type": "code",
   "execution_count": 104,
   "id": "f5821797-7d27-4abc-91df-c022d8044a4a",
   "metadata": {},
   "outputs": [
    {
     "name": "stderr",
     "output_type": "stream",
     "text": [
      "Clipping input data to the valid range for imshow with RGB data ([0..1] for floats or [0..255] for integers).\n"
     ]
    },
    {
     "data": {
      "text/plain": [
       "<matplotlib.image.AxesImage at 0x2ce593490>"
      ]
     },
     "execution_count": 104,
     "metadata": {},
     "output_type": "execute_result"
    },
    {
     "data": {
      "image/png": "[encoded data removed]",
      "text/plain": [
       "<Figure size 640x480 with 1 Axes>"
      ]
     },
     "metadata": {},
     "output_type": "display_data"
    }
   ],
   "source": [
    "plt.imshow(rearrange(patches_rearranged[2], 'c h w -> h w c'))"
   ]
  },
  {
   "cell_type": "code",
   "execution_count": 111,
   "id": "97d549bf-46bf-418a-a5ad-7fc3842fd75e",
   "metadata": {},
   "outputs": [
    {
     "data": {
      "text/plain": [
       "(3, 64, 64)"
      ]
     },
     "execution_count": 111,
     "metadata": {},
     "output_type": "execute_result"
    }
   ],
   "source": [
    "pred_pixels_rearranged = rearrange(pred_pixel_values_t[0][2], '(ph pw c) -> c ph pw', c=3, ph=64, pw=64)\n",
    "pred_pixels_rearranged.shape"
   ]
  },
  {
   "cell_type": "code",
   "execution_count": 112,
   "id": "4a633613-2b8f-49b5-8024-415612f6c09b",
   "metadata": {},
   "outputs": [
    {
     "name": "stderr",
     "output_type": "stream",
     "text": [
      "Clipping input data to the valid range for imshow with RGB data ([0..1] for floats or [0..255] for integers).\n"
     ]
    },
    {
     "data": {
      "text/plain": [
       "<matplotlib.image.AxesImage at 0x2ce699110>"
      ]
     },
     "execution_count": 112,
     "metadata": {},
     "output_type": "execute_result"
    },
    {
     "data": {
      "image/png": "[encoded data removed]",
      "text/plain": [
       "<Figure size 640x480 with 1 Axes>"
      ]
     },
     "metadata": {},
     "output_type": "display_data"
    }
   ],
   "source": [
    "plt.imshow(rearrange(pred_pixels_rearranged, 'c h w -> h w c'))"
   ]
  },
  {
   "cell_type": "code",
   "execution_count": 115,
   "id": "10dd4f5b-9657-44ba-9d29-1c2ba769bd1e",
   "metadata": {},
   "outputs": [
    {
     "data": {
      "text/plain": [
       "[<matplotlib.lines.Line2D at 0x2ce7888d0>]"
      ]
     },
     "execution_count": 115,
     "metadata": {},
     "output_type": "execute_result"
    },
    {
     "data": {
      "image/png": "[encoded data removed]",
      "text/plain": [
       "<Figure size 640x480 with 1 Axes>"
      ]
     },
     "metadata": {},
     "output_type": "display_data"
    }
   ],
   "source": [
    "plt.plot(patches_rearranged[2][0, 0, :])\n",
    "plt.plot(pred_pixels_rearranged[0, 0, :])"
   ]
  },
  {
   "cell_type": "code",
   "execution_count": null,
   "id": "c879f791-74db-4380-a1a2-131db1ad67f8",
   "metadata": {},
   "outputs": [],
   "source": []
  }
 ],
 "metadata": {
  "kernelspec": {
   "display_name": "Python 3 (ipykernel)",
   "language": "python",
   "name": "python3"
  },
  "language_info": {
   "codemirror_mode": {
    "name": "ipython",
    "version": 3
   },
   "file_extension": ".py",
   "mimetype": "text/x-python",
   "name": "python",
   "nbconvert_exporter": "python",
   "pygments_lexer": "ipython3",
   "version": "3.11.0"
  }
 },
 "nbformat": 4,
 "nbformat_minor": 5
}
