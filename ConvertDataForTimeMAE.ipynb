{
 "cells": [
  {
   "cell_type": "code",
   "execution_count": 43,
   "id": "a2deb723-5b1d-4e90-9322-939c44dcf615",
   "metadata": {},
   "outputs": [],
   "source": [
    "import os\n",
    "import numpy as np\n",
    "import matplotlib.pyplot as plt\n",
    "import scipy.io\n",
    "import torch\n",
    "import torch.nn.functional as F\n",
    "import tqdm\n",
    "import random\n",
    "\n",
    "from torch import nn\n",
    "from einops import rearrange, repeat, pack, unpack\n",
    "from einops.layers.torch import Rearrange\n",
    "from torch.utils.data import DataLoader, TensorDataset\n",
    "from sklearn.preprocessing import LabelEncoder\n",
    "\n",
    "from vit_pytorch.vit import Transformer"
   ]
  },
  {
   "cell_type": "code",
   "execution_count": 44,
   "id": "25f876db-7ae1-4071-b7f6-1746b3745ce0",
   "metadata": {},
   "outputs": [],
   "source": [
    "ecg_mat = scipy.io.loadmat('ECGData.mat')"
   ]
  },
  {
   "cell_type": "code",
   "execution_count": 45,
   "id": "6895dc01-0861-4e91-8323-227f957c5a36",
   "metadata": {},
   "outputs": [
    {
     "name": "stdout",
     "output_type": "stream",
     "text": [
      "(162, 65536)\n"
     ]
    }
   ],
   "source": [
    "ecg_data = ecg_mat['ECGData'][0][0][0]\n",
    "print(ecg_data.shape)"
   ]
  },
  {
   "cell_type": "code",
   "execution_count": 46,
   "id": "719eaade-6bbe-4cef-8074-12f043db242d",
   "metadata": {},
   "outputs": [
    {
     "name": "stdout",
     "output_type": "stream",
     "text": [
      "(162, 1)\n"
     ]
    }
   ],
   "source": [
    "labels = ecg_mat['ECGData'][0][0][1]\n",
    "print(labels.shape)"
   ]
  },
  {
   "cell_type": "code",
   "execution_count": 47,
   "id": "5730c1ef-b0f4-49f0-a6b2-e7fcf6e9dd9b",
   "metadata": {},
   "outputs": [],
   "source": [
    "def split_dataset_indices(N, train_percent, val_percent, test_percent, seed=42):\n",
    "    # Validate input percentages\n",
    "    if train_percent + val_percent + test_percent != 100:\n",
    "        raise ValueError(\"The sum of the percentages must be 100.\")\n",
    "\n",
    "    random.seed(seed)\n",
    "    # Generate a list of indices\n",
    "    indices = list(range(N))\n",
    "    random.shuffle(indices)\n",
    "\n",
    "    # Calculate split sizes\n",
    "    train_size = int((train_percent / 100) * N)\n",
    "    val_size = int((val_percent / 100) * N)\n",
    "\n",
    "    # Split indices\n",
    "    train_indices = indices[:train_size]\n",
    "    val_indices = indices[train_size:train_size + val_size]\n",
    "    test_indices = indices[train_size + val_size:]\n",
    "\n",
    "    return train_indices, val_indices, test_indices"
   ]
  },
  {
   "cell_type": "code",
   "execution_count": 48,
   "id": "95577fe5-9963-455f-b593-9f9674af33de",
   "metadata": {},
   "outputs": [],
   "source": [
    "train_indices, val_indices, test_indices = split_dataset_indices(labels.shape[0], 70, 15, 15)"
   ]
  },
  {
   "cell_type": "code",
   "execution_count": 49,
   "id": "d768e9b5-dc96-4230-9afa-365233cd508e",
   "metadata": {},
   "outputs": [],
   "source": [
    "def create_windowed_dataset(data, labels, window_size=1024, stride=None):\n",
    "    if not stride:\n",
    "        stride = window_size\n",
    "\n",
    "    min_val = np.min(data, axis=(0, 1), keepdims=True)\n",
    "    max_val = np.max(data, axis=(0, 1), keepdims=True)\n",
    "    data = 2 * ((data - min_val) / (max_val - min_val)) - 1\n",
    "    \n",
    "    num_samples, sample_size = data.shape\n",
    "    num_windows = sample_size // window_size\n",
    "    \n",
    "    # Initialize the windowed data and label arrays\n",
    "    windowed_data = np.empty((num_samples * num_windows, window_size))\n",
    "    windowed_labels = np.empty((num_samples * num_windows, 1), dtype=labels.dtype)\n",
    "\n",
    "    for i in range(num_samples):\n",
    "        for j in range(num_windows):\n",
    "            start = j * stride\n",
    "            end = start + window_size\n",
    "            windowed_data[i * num_windows + j, :] = data[i, start:end]\n",
    "            windowed_labels[i * num_windows + j, :] = labels[i]\n",
    "\n",
    "    labels_flattened = np.array([label[0][0] for label in windowed_labels])\n",
    "\n",
    "    # Encode the string labels to integers\n",
    "    label_encoder = LabelEncoder()\n",
    "    labels_encoded = label_encoder.fit_transform(labels_flattened)\n",
    "\n",
    "    return torch.tensor(np.expand_dims(windowed_data, 1), dtype=torch.float64), torch.tensor(labels_encoded, dtype=torch.float64)"
   ]
  },
  {
   "cell_type": "code",
   "execution_count": 50,
   "id": "eb5b85d5-15c8-4eb9-8216-30b649b0a11c",
   "metadata": {},
   "outputs": [],
   "source": [
    "ecg_train, labels_train = create_windowed_dataset(ecg_data[train_indices], labels[train_indices], window_size=256)\n",
    "ecg_val, labels_val = create_windowed_dataset(ecg_data[val_indices], labels[val_indices], window_size=256)\n",
    "ecg_test, labels_test = create_windowed_dataset(ecg_data[test_indices], labels[test_indices], window_size=256)"
   ]
  },
  {
   "cell_type": "code",
   "execution_count": 51,
   "id": "9b4f847a-e28c-4e88-8fbe-b5a7b00c7106",
   "metadata": {},
   "outputs": [
    {
     "data": {
      "text/plain": [
       "torch.Size([28928, 1, 256])"
      ]
     },
     "execution_count": 51,
     "metadata": {},
     "output_type": "execute_result"
    }
   ],
   "source": [
    "ecg_train.shape"
   ]
  },
  {
   "cell_type": "code",
   "execution_count": 52,
   "id": "42c50f3f-c13d-494b-bbba-520e8a05a107",
   "metadata": {},
   "outputs": [
    {
     "data": {
      "text/plain": [
       "torch.Size([28928])"
      ]
     },
     "execution_count": 52,
     "metadata": {},
     "output_type": "execute_result"
    }
   ],
   "source": [
    "labels_train.shape"
   ]
  },
  {
   "cell_type": "code",
   "execution_count": 53,
   "id": "71766f88-a365-4f33-8929-03020649d1ba",
   "metadata": {},
   "outputs": [],
   "source": [
    "train = { 'samples': ecg_train, 'labels': labels_train }\n",
    "val = { 'samples': ecg_val, 'labels': labels_val }\n",
    "test = { 'samples': ecg_test, 'labels': labels_test }"
   ]
  },
  {
   "cell_type": "code",
   "execution_count": 54,
   "id": "bc8622b3-2700-456d-933e-6c0fa39cb308",
   "metadata": {},
   "outputs": [],
   "source": [
    "output_path = 'TimeMAE/data/ECG/'\n",
    "os.makedirs(output_path, exist_ok=True)"
   ]
  },
  {
   "cell_type": "code",
   "execution_count": 55,
   "id": "f3df3802-f448-4f88-ab0a-ddd6861acd5b",
   "metadata": {},
   "outputs": [],
   "source": [
    "torch.save(train, os.path.join(output_path, 'train.pt'))\n",
    "torch.save(val, os.path.join(output_path, 'val.pt'))\n",
    "torch.save(test, os.path.join(output_path, 'test.pt'))"
   ]
  },
  {
   "cell_type": "code",
   "execution_count": null,
   "id": "281e1b1c-d218-46ec-8916-2ac4607c9774",
   "metadata": {},
   "outputs": [],
   "source": []
  }
 ],
 "metadata": {
  "kernelspec": {
   "display_name": "Python 3 (ipykernel)",
   "language": "python",
   "name": "python3"
  },
  "language_info": {
   "codemirror_mode": {
    "name": "ipython",
    "version": 3
   },
   "file_extension": ".py",
   "mimetype": "text/x-python",
   "name": "python",
   "nbconvert_exporter": "python",
   "pygments_lexer": "ipython3",
   "version": "3.11.0"
  }
 },
 "nbformat": 4,
 "nbformat_minor": 5
}
